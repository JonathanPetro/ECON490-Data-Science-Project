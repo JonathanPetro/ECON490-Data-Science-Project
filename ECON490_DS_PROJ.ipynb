{
 "cells": [
  {
   "cell_type": "code",
   "metadata": {
    "ExecuteTime": {
     "end_time": "2024-11-09T22:46:29.794522Z",
     "start_time": "2024-11-09T22:46:29.106745Z"
    }
   },
   "source": [
    "import pandas as pd\n",
    "import numpy as np\n",
    "import matplotlib.pyplot as plt\n",
    "\n",
    "firstdata = pd.read_stata(\"C:/UN Comtrade-1.dta\")\n",
    "\n",
    "#Q1 \n",
    "\n",
    "#get basic statistics about UN data\n",
    "print(firstdata) \n",
    "print(firstdata.describe())\n",
    "print(firstdata.info())"
   ],
   "outputs": [
    {
     "name": "stdout",
     "output_type": "stream",
     "text": [
      "        year  reportercode reporter reporteriso  commoditycode  \\\n",
      "0       2002            12  Algeria         DZA              1   \n",
      "1       2002            12  Algeria         DZA              2   \n",
      "2       2002            12  Algeria         DZA              3   \n",
      "3       2002            12  Algeria         DZA              4   \n",
      "4       2002            12  Algeria         DZA              5   \n",
      "...      ...           ...      ...         ...            ...   \n",
      "296104  2021           894   Zambia         ZMB             94   \n",
      "296105  2021           894   Zambia         ZMB             95   \n",
      "296106  2021           894   Zambia         ZMB             96   \n",
      "296107  2021           894   Zambia         ZMB             97   \n",
      "296108  2021           894   Zambia         ZMB             99   \n",
      "\n",
      "                                                commodity      imports  \\\n",
      "0                                            Live animals    8721081.0   \n",
      "1                              Meat and edible meat offal   35352872.0   \n",
      "2       Fish and crustaceans, molluscs and other aquat...    6536006.0   \n",
      "3               Dairy produce; birds eggs; natural honey;  492411200.0   \n",
      "4       Products of animal origin, not elsewhere speci...     336917.0   \n",
      "...                                                   ...          ...   \n",
      "296104  Furniture; bedding, mattresses, cushions and s...   61844064.0   \n",
      "296105  Toys, games and sports requisites; parts and a...    5358969.0   \n",
      "296106                Miscellaneous manufactured articles    6188860.0   \n",
      "296107      Works of art, collectors' pieces and antiques     357144.0   \n",
      "296108        Commodities not specified according to kind    6364715.0   \n",
      "\n",
      "          exports  \n",
      "0         11075.0  \n",
      "1         50053.0  \n",
      "2       5710874.0  \n",
      "3        409941.0  \n",
      "4             NaN  \n",
      "...           ...  \n",
      "296104   755976.0  \n",
      "296105    95664.0  \n",
      "296106   421688.0  \n",
      "296107  1214203.0  \n",
      "296108  4806387.0  \n",
      "\n",
      "[296109 rows x 8 columns]\n",
      "                year   reportercode  commoditycode       imports       exports\n",
      "count  296109.000000  296109.000000  296109.000000  2.951260e+05  2.672560e+05\n",
      "mean     2011.954405     421.956651      49.071494  1.019047e+09  1.109172e+09\n",
      "std         5.438190     251.382415      28.256981  8.314209e+09  9.121103e+09\n",
      "min      2002.000000       4.000000       1.000000  0.000000e+00  0.000000e+00\n",
      "25%      2007.000000     204.000000      25.000000  3.257450e+06  3.739145e+05\n",
      "50%      2012.000000     422.000000      49.000000  3.224496e+07  1.062292e+07\n",
      "75%      2017.000000     634.000000      73.000000  2.317653e+08  1.548917e+08\n",
      "max      2021.000000     894.000000      99.000000  6.683150e+11  8.821105e+11\n",
      "<class 'pandas.core.frame.DataFrame'>\n",
      "RangeIndex: 296109 entries, 0 to 296108\n",
      "Data columns (total 8 columns):\n",
      " #   Column         Non-Null Count   Dtype  \n",
      "---  ------         --------------   -----  \n",
      " 0   year           296109 non-null  int16  \n",
      " 1   reportercode   296109 non-null  int16  \n",
      " 2   reporter       296109 non-null  object \n",
      " 3   reporteriso    296109 non-null  object \n",
      " 4   commoditycode  296109 non-null  int32  \n",
      " 5   commodity      296109 non-null  object \n",
      " 6   imports        295126 non-null  float32\n",
      " 7   exports        267256 non-null  float32\n",
      "dtypes: float32(2), int16(2), int32(1), object(3)\n",
      "memory usage: 11.3+ MB\n",
      "None\n"
     ]
    }
   ],
   "execution_count": 5
  },
  {
   "cell_type": "code",
   "metadata": {
    "ExecuteTime": {
     "end_time": "2024-10-23T23:43:35.833840Z",
     "start_time": "2024-10-23T23:43:35.714072Z"
    }
   },
   "source": [
    "#  year range\n",
    "years = firstdata['year'].unique()\n",
    "#print(\"Year range is \" + str(years[0]) + \" - \" + str(years[len(years) - 1]) + \".\")\n",
    "\n",
    "#  unique countries\n",
    "countries = firstdata['reporter'].unique()\n",
    "#print(countries)\n",
    "#print(len(countries))\n",
    "\n",
    "# unique commodities \n",
    "comms = firstdata['commodity'].unique()\n",
    "#print(comms)\n",
    "#print(len(comms))"
   ],
   "outputs": [],
   "execution_count": 31
  },
  {
   "cell_type": "code",
   "metadata": {
    "ExecuteTime": {
     "end_time": "2024-10-23T23:43:36.124878Z",
     "start_time": "2024-10-23T23:43:35.847168Z"
    }
   },
   "source": [
    "#  plotting import and export\n",
    "\n",
    "agg_year = firstdata.groupby(['year']).agg({'exports': 'sum', 'imports' : 'sum'}).reset_index()\n",
    "fig, ax = plt.subplots(1)\n",
    "ax.plot(agg_year['year'], (agg_year['exports']), '-')\n",
    "ax.plot(agg_year['year'], (agg_year['imports']), '-')"
   ],
   "outputs": [
    {
     "data": {
      "text/plain": [
       "[<matplotlib.lines.Line2D at 0x23a8f4912e0>]"
      ]
     },
     "execution_count": 32,
     "metadata": {},
     "output_type": "execute_result"
    },
    {
     "data": {
      "text/plain": [
       "<Figure size 640x480 with 1 Axes>"
      ],
      "image/png": "[encoded data removed]"
     },
     "metadata": {},
     "output_type": "display_data"
    }
   ],
   "execution_count": 32
  },
  {
   "cell_type": "code",
   "metadata": {
    "ExecuteTime": {
     "end_time": "2024-10-23T23:44:11.595312Z",
     "start_time": "2024-10-23T23:44:11.019730Z"
    }
   },
   "source": [
    "# histogram \n",
    "#just plotting the exports works, but outliers cause the histogram to look like one bar, \n",
    "#filtering out the high outliers will fix this, but it is ommitting some data\n",
    "\n",
    "#plt.figure(1)\n",
    "unfilteredhist = plt.hist(firstdata['exports'], bins=50)\n",
    "plt.title(\"Concentration of Export Values (Outliers included)\")\n",
    "plt.show()\n",
    "\n",
    "\n",
    "plt.figure(2)\n",
    "lowerbound = 1e10\n",
    "upperbound = 1.01 * 10**11.2\n",
    "data_filtered = firstdata[(firstdata['exports'] >= lowerbound) & (firstdata['exports'] <= upperbound)]\n",
    "filteredhist = plt.hist(data_filtered['exports'], bins=30)\n",
    "plt.title(\"Concentration of Export Values (Outliers filtered out)\")"
   ],
   "outputs": [
    {
     "data": {
      "text/plain": [
       "<Figure size 640x480 with 1 Axes>"
      ],
      "image/png": "[encoded data removed]"
     },
     "metadata": {},
     "output_type": "display_data"
    },
    {
     "data": {
      "text/plain": [
       "Text(0.5, 1.0, 'Concentration of Export Values (Outliers filtered out)')"
      ]
     },
     "execution_count": 46,
     "metadata": {},
     "output_type": "execute_result"
    },
    {
     "data": {
      "text/plain": [
       "<Figure size 640x480 with 1 Axes>"
      ],
      "image/png": "[encoded data removed]"
     },
     "metadata": {},
     "output_type": "display_data"
    }
   ],
   "execution_count": 46
  },
  {
   "cell_type": "code",
   "metadata": {
    "ExecuteTime": {
     "end_time": "2024-10-23T23:43:37.033720Z",
     "start_time": "2024-10-23T23:43:37.015856Z"
    }
   },
   "source": [
    "#  the biggest exporter of machinery and mechanical appliances in 2008\n",
    "onlyO8 = firstdata[(firstdata['year'] == 2008) & (firstdata['commoditycode'] == 84)]\n",
    "biggestO8exporter = [onlyO8.loc[onlyO8['exports'].idxmax()]]\n",
    "print(biggestO8exporter)"
   ],
   "outputs": [
    {
     "name": "stdout",
     "output_type": "stream",
     "text": [
      "[year                                                          2008\n",
      "reportercode                                                   156\n",
      "reporter                                                     China\n",
      "reporteriso                                                    CHN\n",
      "commoditycode                                                   84\n",
      "commodity        Machinery and mechanical appliances; parts the...\n",
      "imports                                             140067766272.0\n",
      "exports                                             285746397184.0\n",
      "Name: 77917, dtype: object]\n"
     ]
    }
   ],
   "execution_count": 34
  },
  {
   "cell_type": "code",
   "metadata": {
    "ExecuteTime": {
     "end_time": "2024-10-23T23:43:37.275822Z",
     "start_time": "2024-10-23T23:43:37.134777Z"
    }
   },
   "source": [
    "#  top 5 biggest exporters and importers \n",
    "\n",
    "#section off the data for imports only, sum all the imports up, grab the top 5\n",
    "importonly = firstdata[['year', 'imports', 'reporter']]\n",
    "importsum = importonly.groupby('reporter')['imports'].sum().reset_index()\n",
    "topfiveimport = importsum.nlargest(5, 'imports')\n",
    "print(topfiveimport)\n",
    "\n",
    "exportonly = firstdata[['year', 'exports', 'reporter']]\n",
    "exportsum = exportonly.groupby('reporter')['exports'].sum().reset_index()\n",
    "topfivexport = exportsum.nlargest(5, 'exports')\n",
    "print(topfivexport)\n",
    "\n",
    "topfive_combined = pd.merge(topfiveimport, topfivexport, on='reporter', how='outer', suffixes=('_import', '_export'))\n",
    "topfive_combined_nona = topfive_combined.dropna()\n",
    "print(topfive_combined)"
   ],
   "outputs": [
    {
     "name": "stdout",
     "output_type": "stream",
     "text": [
      "           reporter       imports\n",
      "180             USA  4.225308e+13\n",
      "37            China  2.875973e+13\n",
      "71          Germany  2.099368e+13\n",
      "90            Japan  1.307054e+13\n",
      "184  United Kingdom  1.236095e+13\n",
      "    reporter       exports\n",
      "37     China  3.458820e+13\n",
      "180      USA  2.618344e+13\n",
      "71   Germany  2.558322e+13\n",
      "90     Japan  1.337967e+13\n",
      "66    France  1.008375e+13\n",
      "         reporter       imports       exports\n",
      "0           China  2.875973e+13  3.458820e+13\n",
      "1          France           NaN  1.008375e+13\n",
      "2         Germany  2.099368e+13  2.558322e+13\n",
      "3           Japan  1.307054e+13  1.337967e+13\n",
      "4             USA  4.225308e+13  2.618344e+13\n",
      "5  United Kingdom  1.236095e+13           NaN\n"
     ]
    }
   ],
   "execution_count": 35
  },
  {
   "metadata": {
    "ExecuteTime": {
     "end_time": "2024-10-23T23:43:37.453753Z",
     "start_time": "2024-10-23T23:43:37.385579Z"
    }
   },
   "cell_type": "code",
   "source": [
    "# another way to do top 5s\n",
    "\n",
    "grouped = firstdata.groupby('reporter').agg({'imports':'sum', 'exports':'sum'}).reset_index()\n",
    "top_exporters = grouped.sort_values(by='exports', ascending = False).head(5)\n",
    "top_importers = grouped.sort_values(by='imports', ascending = False).head(5)\n",
    "print(top_importers) #filtered by top importers\n",
    "print(top_exporters) #filtered by top exporters"
   ],
   "outputs": [
    {
     "name": "stdout",
     "output_type": "stream",
     "text": [
      "           reporter       imports       exports\n",
      "180             USA  4.225308e+13  2.618344e+13\n",
      "37            China  2.875973e+13  3.458820e+13\n",
      "71          Germany  2.099368e+13  2.558322e+13\n",
      "90            Japan  1.307054e+13  1.337967e+13\n",
      "184  United Kingdom  1.236095e+13  8.724794e+12\n",
      "    reporter       imports       exports\n",
      "37     China  2.875973e+13  3.458820e+13\n",
      "180      USA  4.225308e+13  2.618344e+13\n",
      "71   Germany  2.099368e+13  2.558322e+13\n",
      "90     Japan  1.307054e+13  1.337967e+13\n",
      "66    France  1.160115e+13  1.008375e+13\n"
     ]
    }
   ],
   "execution_count": 36
  },
  {
   "cell_type": "code",
   "metadata": {
    "ExecuteTime": {
     "end_time": "2024-10-23T23:43:37.964709Z",
     "start_time": "2024-10-23T23:43:37.687956Z"
    }
   },
   "source": [
    "#  plotting the imports vs the exports\n",
    "exp_and_imp = firstdata.groupby('reporter')[['exports','imports']].sum().reset_index()\n",
    "print(exp_and_imp)\n",
    "plt.scatter(exp_and_imp['imports'], exp_and_imp['exports'])\n",
    "plt.xlabel('imports')\n",
    "plt.ylabel('exports')\n",
    "plt.title('Plot of import vs export')\n",
    "slope, intercept = np.polyfit(exp_and_imp['imports'], exp_and_imp['exports'], 1)\n",
    "plt.plot(exp_and_imp['imports'], slope * exp_and_imp['imports'] + intercept, color='green', label='Best fit line')\n",
    "\n",
    "plt.show()"
   ],
   "outputs": [
    {
     "name": "stdout",
     "output_type": "stream",
     "text": [
      "        reporter       exports       imports\n",
      "0    Afghanistan  6.977031e+09  7.838164e+10\n",
      "1        Albania  3.045363e+10  8.036857e+10\n",
      "2        Algeria  7.895500e+11  5.890990e+11\n",
      "3        Andorra  1.915914e+09  2.509275e+10\n",
      "4         Angola  6.296955e+11  2.604364e+11\n",
      "..           ...           ...           ...\n",
      "189    Venezuela  5.424991e+11  3.436902e+11\n",
      "190     Viet Nam  2.176489e+12  2.217878e+12\n",
      "191        Yemen  5.733876e+10  1.047834e+11\n",
      "192       Zambia  1.243988e+11  1.176672e+11\n",
      "193     Zimbabwe  6.445484e+10  9.293219e+10\n",
      "\n",
      "[194 rows x 3 columns]\n"
     ]
    },
    {
     "data": {
      "text/plain": [
       "<Figure size 640x480 with 1 Axes>"
      ],
      "image/png": "[encoded data removed]"
     },
     "metadata": {},
     "output_type": "display_data"
    }
   ],
   "execution_count": 37
  },
  {
   "cell_type": "code",
   "metadata": {
    "ExecuteTime": {
     "end_time": "2024-11-09T22:47:38.693293Z",
     "start_time": "2024-11-09T22:47:36.533359Z"
    }
   },
   "source": [
    "\n",
    "import statsmodels.formula.api as smf\n",
    "import numpy as np\n",
    "\n",
    "seconddata = pd.read_excel('C:/gravity_flow_no_zeros-1.xlsx')\n",
    "print(seconddata)\n",
    "\n",
    "# linear regression model of flow on gdp of importer and exporter country, minus the distance\n",
    "#simulates the gravity trade model\n",
    "logged_dist = np.log(seconddata['distw'])\n",
    "seconddata['log_flow'] = np.log(seconddata['flow'])\n",
    "seconddata['log_gdp_o'] = np.log(seconddata['gdp_o'])\n",
    "seconddata['log_gdp_d'] = np.log(seconddata['gdp_d'])\n",
    "seconddata['log_distw'] = np.log(seconddata['distw'])\n",
    "formula = \"log_flow ~ log_gdp_o + log_gdp_d - log_distw\"\n",
    "model = smf.ols(formula, data=seconddata).fit()\n",
    "print(model.summary())"
   ],
   "outputs": [
    {
     "name": "stdout",
     "output_type": "stream",
     "text": [
      "      iso_o iso_d         distw        gdp_o          gdp_d  rta        flow  \\\n",
      "0       AFG   ARG  15341.161651  8399.039062  214057.750000    0    0.061000   \n",
      "1       AFG   AUS  11086.140572  8399.039062  768177.687500    0    0.405504   \n",
      "2       AFG   AUT   4567.301990  8399.039062  322443.656250    0    0.164900   \n",
      "3       AFG   AZE   1821.718680  8399.039062   20121.611328    0    0.001600   \n",
      "4       AFG   BEL   5331.891731  8399.039062  392001.375000    0    4.158704   \n",
      "...     ...   ...           ...          ...            ...  ...         ...   \n",
      "17083   ZWE   VNM   9143.044150  5010.452637   60883.820312    0    0.086939   \n",
      "17084   ZWE   YEM   4001.151262  5010.452637   19056.695312    0    0.316139   \n",
      "17085   ZWE   ZAF   1258.552190  5010.452637  254991.562500    1  710.135000   \n",
      "17086   ZWE   ZAR   1930.976364  5010.452637    8543.323242    0  182.605000   \n",
      "17087   ZWE   ZMB    583.795373  5010.452637   10907.087891    1  175.101000   \n",
      "\n",
      "       contig  comlang_off  comcur  \n",
      "0           0            0       0  \n",
      "1           0            0       0  \n",
      "2           0            0       0  \n",
      "3           0            0       0  \n",
      "4           0            0       0  \n",
      "...       ...          ...     ...  \n",
      "17083       0            0       0  \n",
      "17084       0            0       0  \n",
      "17085       1            1       0  \n",
      "17086       0            0       0  \n",
      "17087       1            1       0  \n",
      "\n",
      "[17088 rows x 10 columns]\n",
      "                            OLS Regression Results                            \n",
      "==============================================================================\n",
      "Dep. Variable:               log_flow   R-squared:                       0.539\n",
      "Model:                            OLS   Adj. R-squared:                  0.539\n",
      "Method:                 Least Squares   F-statistic:                     9980.\n",
      "Date:                Sat, 09 Nov 2024   Prob (F-statistic):               0.00\n",
      "Time:                        16:47:38   Log-Likelihood:                -41822.\n",
      "No. Observations:               17088   AIC:                         8.365e+04\n",
      "Df Residuals:                   17085   BIC:                         8.367e+04\n",
      "Df Model:                           2                                         \n",
      "Covariance Type:            nonrobust                                         \n",
      "==============================================================================\n",
      "                 coef    std err          t      P>|t|      [0.025      0.975]\n",
      "------------------------------------------------------------------------------\n",
      "Intercept    -20.6235      0.158   -130.396      0.000     -20.934     -20.314\n",
      "log_gdp_o      1.1779      0.009    124.820      0.000       1.159       1.196\n",
      "log_gdp_d      0.8643      0.009     93.377      0.000       0.846       0.882\n",
      "==============================================================================\n",
      "Omnibus:                     1219.206   Durbin-Watson:                   1.750\n",
      "Prob(Omnibus):                  0.000   Jarque-Bera (JB):             2882.670\n",
      "Skew:                          -0.444   Prob(JB):                         0.00\n",
      "Kurtosis:                       4.806   Cond. No.                         113.\n",
      "==============================================================================\n",
      "\n",
      "Notes:\n",
      "[1] Standard Errors assume that the covariance matrix of the errors is correctly specified.\n"
     ]
    }
   ],
   "execution_count": 11
  },
  {
   "metadata": {
    "ExecuteTime": {
     "end_time": "2024-10-23T23:43:41.937628Z",
     "start_time": "2024-10-23T23:43:41.900362Z"
    }
   },
   "cell_type": "code",
   "source": [
    "#same linear regression model but adding distance, should not change the results, \n",
    "#as the model determines the signs, typically, the \"+\" sign is used in linear regression equations\n",
    "forumla = \"log_flow ~ log_gdp_o + log_gdp_d + log_distw\"\n",
    "model2 = smf.ols(formula, data=seconddata).fit()\n",
    "print(model2.summary())"
   ],
   "outputs": [
    {
     "name": "stdout",
     "output_type": "stream",
     "text": [
      "                            OLS Regression Results                            \n",
      "==============================================================================\n",
      "Dep. Variable:               log_flow   R-squared:                       0.539\n",
      "Model:                            OLS   Adj. R-squared:                  0.539\n",
      "Method:                 Least Squares   F-statistic:                     9980.\n",
      "Date:                Wed, 23 Oct 2024   Prob (F-statistic):               0.00\n",
      "Time:                        18:43:41   Log-Likelihood:                -41822.\n",
      "No. Observations:               17088   AIC:                         8.365e+04\n",
      "Df Residuals:                   17085   BIC:                         8.367e+04\n",
      "Df Model:                           2                                         \n",
      "Covariance Type:            nonrobust                                         \n",
      "==============================================================================\n",
      "                 coef    std err          t      P>|t|      [0.025      0.975]\n",
      "------------------------------------------------------------------------------\n",
      "Intercept    -20.6235      0.158   -130.396      0.000     -20.934     -20.314\n",
      "log_gdp_o      1.1779      0.009    124.820      0.000       1.159       1.196\n",
      "log_gdp_d      0.8643      0.009     93.377      0.000       0.846       0.882\n",
      "==============================================================================\n",
      "Omnibus:                     1219.206   Durbin-Watson:                   1.750\n",
      "Prob(Omnibus):                  0.000   Jarque-Bera (JB):             2882.670\n",
      "Skew:                          -0.444   Prob(JB):                         0.00\n",
      "Kurtosis:                       4.806   Cond. No.                         113.\n",
      "==============================================================================\n",
      "\n",
      "Notes:\n",
      "[1] Standard Errors assume that the covariance matrix of the errors is correctly specified.\n"
     ]
    }
   ],
   "execution_count": 39
  },
  {
   "metadata": {
    "ExecuteTime": {
     "end_time": "2024-10-23T23:43:42.097917Z",
     "start_time": "2024-10-23T23:43:42.037958Z"
    }
   },
   "cell_type": "code",
   "source": [
    "#adding in more variables, R squared is slightly higher. These help the explanitory power of the \n",
    "#model, however there are still other factors to be concerned about/check for. However, \n",
    "#this is an improvement.\n",
    "\n",
    "formula = \"log_flow ~ log_gdp_o + log_gdp_d + log_distw + contig + rta + comcur\"\n",
    "model3 = smf.ols(formula, data=seconddata).fit()\n",
    "print(model3.summary())\n"
   ],
   "outputs": [
    {
     "name": "stdout",
     "output_type": "stream",
     "text": [
      "                            OLS Regression Results                            \n",
      "==============================================================================\n",
      "Dep. Variable:               log_flow   R-squared:                       0.636\n",
      "Model:                            OLS   Adj. R-squared:                  0.636\n",
      "Method:                 Least Squares   F-statistic:                     4975.\n",
      "Date:                Wed, 23 Oct 2024   Prob (F-statistic):               0.00\n",
      "Time:                        18:43:42   Log-Likelihood:                -39799.\n",
      "No. Observations:               17088   AIC:                         7.961e+04\n",
      "Df Residuals:                   17081   BIC:                         7.967e+04\n",
      "Df Model:                           6                                         \n",
      "Covariance Type:            nonrobust                                         \n",
      "==============================================================================\n",
      "                 coef    std err          t      P>|t|      [0.025      0.975]\n",
      "------------------------------------------------------------------------------\n",
      "Intercept    -10.9369      0.277    -39.475      0.000     -11.480     -10.394\n",
      "log_gdp_o      1.2066      0.009    141.682      0.000       1.190       1.223\n",
      "log_gdp_d      0.8855      0.008    105.979      0.000       0.869       0.902\n",
      "log_distw     -1.2010      0.030    -40.074      0.000      -1.260      -1.142\n",
      "contig         1.3202      0.125     10.530      0.000       1.074       1.566\n",
      "rta            0.8661      0.071     12.191      0.000       0.727       1.005\n",
      "comcur         0.4579      0.153      2.994      0.003       0.158       0.758\n",
      "==============================================================================\n",
      "Omnibus:                     2258.109   Durbin-Watson:                   1.670\n",
      "Prob(Omnibus):                  0.000   Jarque-Bera (JB):             5962.995\n",
      "Skew:                          -0.739   Prob(JB):                         0.00\n",
      "Kurtosis:                       5.488   Cond. No.                         261.\n",
      "==============================================================================\n",
      "\n",
      "Notes:\n",
      "[1] Standard Errors assume that the covariance matrix of the errors is correctly specified.\n"
     ]
    }
   ],
   "execution_count": 40
  },
  {
   "metadata": {
    "ExecuteTime": {
     "end_time": "2024-10-23T23:43:42.225189Z",
     "start_time": "2024-10-23T23:43:42.202941Z"
    }
   },
   "cell_type": "code",
   "source": [
    "#checking for colinearity bewtween all the variables\n",
    "correlation_matrix = seconddata[['log_gdp_o', 'log_gdp_d', 'log_distw', 'contig', 'rta', 'comcur']].corr()\n",
    "print(correlation_matrix)"
   ],
   "outputs": [
    {
     "name": "stdout",
     "output_type": "stream",
     "text": [
      "           log_gdp_o  log_gdp_d  log_distw    contig       rta    comcur\n",
      "log_gdp_o   1.000000  -0.232336   0.068979 -0.008257  0.057441 -0.027155\n",
      "log_gdp_d  -0.232336   1.000000   0.055100 -0.001149  0.073486 -0.020593\n",
      "log_distw   0.068979   0.055100   1.000000 -0.388787 -0.551410 -0.248100\n",
      "contig     -0.008257  -0.001149  -0.388787  1.000000  0.243156  0.153023\n",
      "rta         0.057441   0.073486  -0.551410  0.243156  1.000000  0.223990\n",
      "comcur     -0.027155  -0.020593  -0.248100  0.153023  0.223990  1.000000\n"
     ]
    }
   ],
   "execution_count": 41
  },
  {
   "metadata": {
    "ExecuteTime": {
     "end_time": "2024-11-09T22:46:52.432375Z",
     "start_time": "2024-11-09T22:46:51.591375Z"
    }
   },
   "cell_type": "code",
   "source": [
    "#using ricardian data\n",
    "\n",
    "thirddata = pd.read_excel(\"C:/ricardian.xlsx\")\n",
    "print(thirddata)\n",
    "\n",
    "\n",
    "#relative productivity between the home and foreign country overall\n",
    "thirddata['relative_productivity'] = thirddata['labor unit required_foreign'] / thirddata['labor unit required_home']\n",
    "total_prod = sum(thirddata['relative_productivity']) ** (1/200)\n",
    "print(total_prod)\n",
    "# 1/alc / 1/a*lc = al*c / alc\n",
    "\n",
    "\n"
   ],
   "outputs": [
    {
     "name": "stdout",
     "output_type": "stream",
     "text": [
      "     product code  labor unit required_home  labor unit required_foreign\n",
      "0               1                 15.556072                    17.679422\n",
      "1               2                 15.370814                    19.268547\n",
      "2               3                  1.984626                    18.389589\n",
      "3               4                  1.233614                    17.526406\n",
      "4               5                  5.760505                    18.087255\n",
      "..            ...                       ...                          ...\n",
      "195           196                 11.282875                    19.708266\n",
      "196           197                 18.841240                    13.603370\n",
      "197           198                  9.262878                    19.041658\n",
      "198           199                 16.984262                     7.989685\n",
      "199           200                 17.833765                    10.256525\n",
      "\n",
      "[200 rows x 3 columns]\n",
      "1.0293952649129308\n"
     ]
    }
   ],
   "execution_count": 7
  },
  {
   "metadata": {
    "ExecuteTime": {
     "end_time": "2024-11-09T22:47:12.331740Z",
     "start_time": "2024-11-09T22:47:12.324478Z"
    }
   },
   "cell_type": "code",
   "source": [
    "# determining if product will be produced in the foreign or home country based on relative productivity\n",
    "#if relative productivity is above 2, then product will be produced in home country \n",
    "def home_produce(x):\n",
    "    if x > 2:\n",
    "        return 1\n",
    "    else: \n",
    "        return 0\n",
    "    \n",
    "thirddata['home_produce']  = thirddata['relative_productivity'].apply(home_produce)\n",
    "print(thirddata)\n"
   ],
   "outputs": [
    {
     "name": "stdout",
     "output_type": "stream",
     "text": [
      "     product code  labor unit required_home  labor unit required_foreign  \\\n",
      "0               1                 15.556072                    17.679422   \n",
      "1               2                 15.370814                    19.268547   \n",
      "2               3                  1.984626                    18.389589   \n",
      "3               4                  1.233614                    17.526406   \n",
      "4               5                  5.760505                    18.087255   \n",
      "..            ...                       ...                          ...   \n",
      "195           196                 11.282875                    19.708266   \n",
      "196           197                 18.841240                    13.603370   \n",
      "197           198                  9.262878                    19.041658   \n",
      "198           199                 16.984262                     7.989685   \n",
      "199           200                 17.833765                    10.256525   \n",
      "\n",
      "     relative_productivity  home_produce  \n",
      "0                 1.136497             0  \n",
      "1                 1.253580             0  \n",
      "2                 9.266024             1  \n",
      "3                14.207364             1  \n",
      "4                 3.139873             1  \n",
      "..                     ...           ...  \n",
      "195               1.746742             0  \n",
      "196               0.722000             0  \n",
      "197               2.055696             1  \n",
      "198               0.470417             0  \n",
      "199               0.575118             0  \n",
      "\n",
      "[200 rows x 5 columns]\n"
     ]
    }
   ],
   "execution_count": 10
  },
  {
   "metadata": {
    "ExecuteTime": {
     "end_time": "2024-11-09T22:47:50.626867Z",
     "start_time": "2024-11-09T22:47:50.603425Z"
    }
   },
   "cell_type": "code",
   "source": [
    "# making linear regression model, using relative productivity to predict whether or not the \n",
    "#product would be produced at home or abroad\n",
    "#from sklearn.model_selection import train_test_split\n",
    "\n",
    "formula2 = \"home_produce ~ relative_productivity\"\n",
    "train_data = thirddata.iloc[:150]\n",
    "test_data = thirddata.iloc[150:] \n",
    "model4 = smf.ols(formula2, data=train_data).fit()\n",
    "print(model4.summary())\n",
    "\n",
    "thirddata['predictions'] = model4.predict(test_data)\n",
    "\n",
    "#using first 150 data points to train, using other 50 for prediction, want to avoid overfitting the model\n",
    "\n",
    "thirddata.loc[thirddata.index[-50:], 'predictions'] = np.where(thirddata['predictions'].iloc[-50:] > 0.5, 1, 0)\n",
    "#thirddata['predictions'] = int(thirddata['predictions'])\n",
    "print(thirddata.tail(60))\n",
    "\n"
   ],
   "outputs": [
    {
     "name": "stdout",
     "output_type": "stream",
     "text": [
      "                            OLS Regression Results                            \n",
      "==============================================================================\n",
      "Dep. Variable:           home_produce   R-squared:                       0.518\n",
      "Model:                            OLS   Adj. R-squared:                  0.515\n",
      "Method:                 Least Squares   F-statistic:                     159.3\n",
      "Date:                Sat, 09 Nov 2024   Prob (F-statistic):           2.97e-25\n",
      "Time:                        16:47:50   Log-Likelihood:                -27.438\n",
      "No. Observations:                 150   AIC:                             58.88\n",
      "Df Residuals:                     148   BIC:                             64.90\n",
      "Df Model:                           1                                         \n",
      "Covariance Type:            nonrobust                                         \n",
      "=========================================================================================\n",
      "                            coef    std err          t      P>|t|      [0.025      0.975]\n",
      "-----------------------------------------------------------------------------------------\n",
      "Intercept                -0.0222      0.031     -0.718      0.474      -0.083       0.039\n",
      "relative_productivity     0.1507      0.012     12.623      0.000       0.127       0.174\n",
      "==============================================================================\n",
      "Omnibus:                       28.335   Durbin-Watson:                   2.079\n",
      "Prob(Omnibus):                  0.000   Jarque-Bera (JB):               44.592\n",
      "Skew:                           0.956   Prob(JB):                     2.07e-10\n",
      "Kurtosis:                       4.865   Cond. No.                         3.58\n",
      "==============================================================================\n",
      "\n",
      "Notes:\n",
      "[1] Standard Errors assume that the covariance matrix of the errors is correctly specified.\n",
      "     product code  labor unit required_home  labor unit required_foreign  \\\n",
      "140           141                 12.803235                    10.119983   \n",
      "141           142                 10.595905                    17.881613   \n",
      "142           143                 10.712462                     9.054583   \n",
      "143           144                 15.262754                    14.512745   \n",
      "144           145                 18.991522                     8.371270   \n",
      "145           146                  1.622060                     3.323085   \n",
      "146           147                  8.651029                     9.385950   \n",
      "147           148                 17.799020                     3.081795   \n",
      "148           149                 17.586200                    12.667920   \n",
      "149           150                 18.536915                    19.009480   \n",
      "150           151                 18.097229                    12.035839   \n",
      "151           152                  5.436786                     3.831825   \n",
      "152           153                 10.873899                    15.352586   \n",
      "153           154                  7.438350                    16.328160   \n",
      "154           155                 15.334650                     9.470041   \n",
      "155           156                  7.555913                    19.998958   \n",
      "156           157                  9.476818                     9.042137   \n",
      "157           158                  8.649293                     8.852168   \n",
      "158           159                  4.727397                    12.692616   \n",
      "159           160                  3.131035                    12.741294   \n",
      "160           161                  6.699833                    19.073043   \n",
      "161           162                  6.944233                    18.803704   \n",
      "162           163                 15.911632                    14.566040   \n",
      "163           164                  5.463819                     6.624872   \n",
      "164           165                 10.811817                     2.141137   \n",
      "165           166                 19.876830                     4.220193   \n",
      "166           167                 14.848702                     3.923508   \n",
      "167           168                  3.457843                     7.104830   \n",
      "168           169                  1.782592                    10.005810   \n",
      "169           170                  6.566367                    18.759971   \n",
      "170           171                  8.005237                    13.184303   \n",
      "171           172                  8.657798                    16.994050   \n",
      "172           173                 15.983942                    16.535356   \n",
      "173           174                  8.011288                     6.075635   \n",
      "174           175                 13.501531                     3.197602   \n",
      "175           176                  6.487475                    14.751740   \n",
      "176           177                  8.516262                     1.367309   \n",
      "177           178                  8.822123                    10.347550   \n",
      "178           179                  2.206337                     2.815410   \n",
      "179           180                  2.531187                     7.729667   \n",
      "180           181                  6.500385                     9.385444   \n",
      "181           182                 13.461164                     3.303162   \n",
      "182           183                 14.292826                    19.518892   \n",
      "183           184                 12.983026                     5.865526   \n",
      "184           185                  6.945317                    17.221726   \n",
      "185           186                 14.007689                    10.407726   \n",
      "186           187                 15.531645                     6.308302   \n",
      "187           188                 18.499699                     5.411075   \n",
      "188           189                  2.019085                    14.185579   \n",
      "189           190                  6.515644                     5.042148   \n",
      "190           191                  9.042704                    11.188671   \n",
      "191           192                 10.356528                     2.778826   \n",
      "192           193                  1.926878                    13.472017   \n",
      "193           194                  8.749222                    10.050036   \n",
      "194           195                 19.584804                    16.800191   \n",
      "195           196                 11.282875                    19.708266   \n",
      "196           197                 18.841240                    13.603370   \n",
      "197           198                  9.262878                    19.041658   \n",
      "198           199                 16.984262                     7.989685   \n",
      "199           200                 17.833765                    10.256525   \n",
      "\n",
      "     relative_productivity  home_produce  predictions  \n",
      "140               0.790424             0          NaN  \n",
      "141               1.687597             0          NaN  \n",
      "142               0.845238             0          NaN  \n",
      "143               0.950860             0          NaN  \n",
      "144               0.440790             0          NaN  \n",
      "145               2.048681             1          NaN  \n",
      "146               1.084952             0          NaN  \n",
      "147               0.173144             0          NaN  \n",
      "148               0.720333             0          NaN  \n",
      "149               1.025493             0          NaN  \n",
      "150               0.665065             0          0.0  \n",
      "151               0.704796             0          0.0  \n",
      "152               1.411875             0          0.0  \n",
      "153               2.195132             1          0.0  \n",
      "154               0.617558             0          0.0  \n",
      "155               2.646796             1          0.0  \n",
      "156               0.954132             0          0.0  \n",
      "157               1.023456             0          0.0  \n",
      "158               2.684906             1          0.0  \n",
      "159               4.069355             1          1.0  \n",
      "160               2.846794             1          0.0  \n",
      "161               2.707816             1          0.0  \n",
      "162               0.915433             0          0.0  \n",
      "163               1.212499             0          0.0  \n",
      "164               0.198037             0          0.0  \n",
      "165               0.212317             0          0.0  \n",
      "166               0.264232             0          0.0  \n",
      "167               2.054700             1          0.0  \n",
      "168               5.613067             1          1.0  \n",
      "169               2.856979             1          0.0  \n",
      "170               1.646960             0          0.0  \n",
      "171               1.962861             0          0.0  \n",
      "172               1.034498             0          0.0  \n",
      "173               0.758384             0          0.0  \n",
      "174               0.236833             0          0.0  \n",
      "175               2.273880             1          0.0  \n",
      "176               0.160553             0          0.0  \n",
      "177               1.172909             0          0.0  \n",
      "178               1.276056             0          0.0  \n",
      "179               3.053772             1          0.0  \n",
      "180               1.443829             0          0.0  \n",
      "181               0.245385             0          0.0  \n",
      "182               1.365643             0          0.0  \n",
      "183               0.451784             0          0.0  \n",
      "184               2.479617             1          0.0  \n",
      "185               0.743001             0          0.0  \n",
      "186               0.406158             0          0.0  \n",
      "187               0.292495             0          0.0  \n",
      "188               7.025748             1          1.0  \n",
      "189               0.773853             0          0.0  \n",
      "190               1.237315             0          0.0  \n",
      "191               0.268316             0          0.0  \n",
      "192               6.991630             1          1.0  \n",
      "193               1.148678             0          0.0  \n",
      "194               0.857818             0          0.0  \n",
      "195               1.746742             0          0.0  \n",
      "196               0.722000             0          0.0  \n",
      "197               2.055696             1          0.0  \n",
      "198               0.470417             0          0.0  \n",
      "199               0.575118             0          0.0  \n"
     ]
    }
   ],
   "execution_count": 12
  },
  {
   "metadata": {
    "ExecuteTime": {
     "end_time": "2024-11-09T22:48:30.378716Z",
     "start_time": "2024-11-09T22:48:30.373003Z"
    }
   },
   "cell_type": "code",
   "source": [
    "#\n",
    "import statistics\n",
    "from sklearn.metrics import mean_squared_error\n",
    "\n",
    "mean_squared_error(thirddata['home_produce'].loc[150:], thirddata['predictions'].loc[150:])\n",
    "statistics.variance(thirddata['home_produce'])\n",
    "#variance is 0.186\n",
    "#mse is 0.22\n",
    "\n",
    "#the mse is higher than the variance, which indicates there are still some improvements \n",
    "#to make to the model in order for it to better explain the variance found within the \n",
    "#data. However, it does capture a decent amount of variability. \n",
    "#aside from variance comparison, comparing to the MSE of other models could provide more insight "
   ],
   "outputs": [
    {
     "data": {
      "text/plain": [
       "0.18590452261306534"
      ]
     },
     "execution_count": 16,
     "metadata": {},
     "output_type": "execute_result"
    }
   ],
   "execution_count": 16
  }
 ],
 "metadata": {
  "kernelspec": {
   "display_name": ".venv",
   "language": "python",
   "name": "python3"
  },
  "language_info": {
   "codemirror_mode": {
    "name": "ipython",
    "version": 3
   },
   "file_extension": ".py",
   "mimetype": "text/x-python",
   "name": "python",
   "nbconvert_exporter": "python",
   "pygments_lexer": "ipython3",
   "version": "3.12.6"
  }
 },
 "nbformat": 4,
 "nbformat_minor": 2
}
